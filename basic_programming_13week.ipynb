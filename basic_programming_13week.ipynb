{
  "nbformat": 4,
  "nbformat_minor": 0,
  "metadata": {
    "colab": {
      "provenance": [],
      "authorship_tag": "ABX9TyMt3aZ2QMIxyJ6lR6/odQMH",
      "include_colab_link": true
    },
    "kernelspec": {
      "name": "python3",
      "display_name": "Python 3"
    },
    "language_info": {
      "name": "python"
    }
  },
  "cells": [
    {
      "cell_type": "markdown",
      "metadata": {
        "id": "view-in-github",
        "colab_type": "text"
      },
      "source": [
        "<a href=\"https://colab.research.google.com/github/JavokhirJambulov/Basic-Programming-and-Practice/blob/main/basic_programming_13week.ipynb\" target=\"_parent\"><img src=\"https://colab.research.google.com/assets/colab-badge.svg\" alt=\"Open In Colab\"/></a>"
      ]
    },
    {
      "cell_type": "code",
      "execution_count": 3,
      "metadata": {
        "colab": {
          "base_uri": "https://localhost:8080/"
        },
        "id": "HB2hG49DSJde",
        "outputId": "8ebe7d35-7a2a-4c71-c7c3-84e282aaed1b"
      },
      "outputs": [
        {
          "output_type": "stream",
          "name": "stdout",
          "text": [
            "Minimum point: [-7.49999965]\n"
          ]
        }
      ],
      "source": [
        "from scipy.optimize import minimize\n",
        "# Optimization: Finding the minimum of an function\n",
        "def objective_function(x):\n",
        "  return x**2 + 15*x + 50\n",
        "result = minimize(objective_function, x0=0)\n",
        "print(\"Minimum point:\", result.x)"
      ]
    },
    {
      "cell_type": "code",
      "source": [
        "from scipy.optimize import linprog\n",
        "# Coefficients of the objective function (negative because linprog does minimization)\n",
        "c = [-5, -12] # We want to maximize profit, so we minimize the negative profit\n",
        "# Coefficients of the inequality constraints (Ax <= b)\n",
        "A = [[1, 2], [1, 0], [0, 1]] # Time constraint, Widget constraint, Gadget constraint\n",
        "b = [16, 8, 5] # Total available hours, max Widgets, max Gadgets\n",
        "# Bounds for each variable (x, y)\n",
        "x_bounds = (0, None) # Widgets can't be negative and no upper limit\n",
        "y_bounds = (0, None) # Gadgets can't be negative and no upper limit\n",
        "# Solving the problem\n",
        "result = linprog(c, A_ub=A, b_ub=b, bounds=[x_bounds, y_bounds], method='highs')\n",
        "# Output the result\n",
        "widgets, gadgets = result.x\n",
        "print(f\"Number of Widgets to produce: {widgets}\")\n",
        "print(f\"Number of Gadgets to produce: {gadgets}\")\n",
        "print(f\"Maximum Profit: ${-result.fun}\") # Negating because we minimized the negative profit"
      ],
      "metadata": {
        "colab": {
          "base_uri": "https://localhost:8080/"
        },
        "id": "SiMCW3CWYLPn",
        "outputId": "c431e416-a302-4b64-85f8-9d6f4d300c3b"
      },
      "execution_count": 4,
      "outputs": [
        {
          "output_type": "stream",
          "name": "stdout",
          "text": [
            "Number of Widgets to produce: 6.0\n",
            "Number of Gadgets to produce: 5.0\n",
            "Maximum Profit: $90.0\n"
          ]
        }
      ]
    }
  ]
}